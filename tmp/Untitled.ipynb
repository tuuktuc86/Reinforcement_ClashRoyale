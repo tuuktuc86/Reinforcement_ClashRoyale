{
 "cells": [
  {
   "cell_type": "code",
   "execution_count": 18,
   "id": "3e67c1ff",
   "metadata": {},
   "outputs": [],
   "source": [
    "import torchvision\n",
    "import os\n",
    "import glob\n",
    "from matplotlib import pyplot as plt\n",
    "\n",
    "data_path = '/home/jnu/Desktop/Reinforce/Royale/tmp/img'\n",
    "\n",
    "images = glob.glob('{data_path}/*.jpg')"
   ]
  },
  {
   "cell_type": "code",
   "execution_count": 19,
   "id": "39595320",
   "metadata": {},
   "outputs": [
    {
     "data": {
      "text/plain": [
       "[]"
      ]
     },
     "execution_count": 19,
     "metadata": {},
     "output_type": "execute_result"
    }
   ],
   "source": [
    "images"
   ]
  },
  {
   "cell_type": "code",
   "execution_count": 17,
   "id": "8f7b3b47",
   "metadata": {},
   "outputs": [],
   "source": [
    "for fname in images:\n",
    "    plt.show(fname)"
   ]
  },
  {
   "cell_type": "code",
   "execution_count": null,
   "id": "92d8aaa8",
   "metadata": {},
   "outputs": [],
   "source": [
    "dirs = os.lis"
   ]
  }
 ],
 "metadata": {
  "kernelspec": {
   "display_name": "Python 3 (ipykernel)",
   "language": "python",
   "name": "python3"
  },
  "language_info": {
   "codemirror_mode": {
    "name": "ipython",
    "version": 3
   },
   "file_extension": ".py",
   "mimetype": "text/x-python",
   "name": "python",
   "nbconvert_exporter": "python",
   "pygments_lexer": "ipython3",
   "version": "3.9.0"
  }
 },
 "nbformat": 4,
 "nbformat_minor": 5
}
